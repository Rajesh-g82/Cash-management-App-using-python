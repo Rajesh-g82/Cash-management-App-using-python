{
 "cells": [
  {
   "cell_type": "markdown",
   "id": "c19ce59e",
   "metadata": {},
   "source": [
    "Task:\n",
    "\n",
    "Build a simple Cash Management Application using Python that will be used by the cashier at the counter in the bank.\n",
    "\n",
    "The application should provide the facility to:\n",
    "\n",
    "    Add a new customer to the system by accepting a minimum amount of $30\n",
    "    Allow deposit of additional cash for an existing customer\n",
    "    Allow cash withdrawal up to a cash-balance limit of $30 for an existing customer\n",
    "    Retire an existing customer; delete a customer from the system only if the balance is below $30\n",
    "    Allow the display of all customers\n",
    "    Allow the user/cashier to quit the application. \n",
    "\n",
    " \n",
    "\n",
    "Please follow the instructions below to complete the task:\n",
    "\n",
    "    The mentioned facilities should appear to the cashier in the form of a Menu as shown below:\n",
    "\n",
    "Menu \n",
    "\n",
    "A. Add a new customer \n",
    "\n",
    "B. Add cash for existing customer \n",
    "\n",
    "C. Remove cash for existing customer \n",
    "\n",
    "D. Retire an existing customer \n",
    "\n",
    "E. Display all customers \n",
    "\n",
    "Q. Quit application \n",
    "\n",
    "Select choice: ___________\n",
    "\n",
    "Based on the menu chosen, the appropriate actions should be taken.\n",
    "\n",
    " \n",
    "\n",
    "    The customers below should be present in the system. Store this data in your program in a nested dictionary object with appropriate keys and perform the required transactions on them.\n",
    "\n",
    "custID   Name    Cash Balance\n",
    "\n",
    "C01         Jane                       5500\n",
    "\n",
    "C02         Suzanne               6200\n",
    "\n",
    "C03         Martha                 5800\n",
    "\n",
    "C04         Tom                       7000\n",
    "\n",
    " \n",
    "\n",
    "    To manage the transactions as per the menu item chosen, write user-defined functions and make function calls as required.\n",
    "    Manage value error exceptions for cash amount and also ensure that the minimum cash balance of $30 is maintained for the customers. Display appropriate messages wherever needed.\n",
    "    If a customer id does not exist, do not perform transactions that will update the system. Display an appropriate message for the same.\n",
    "\n",
    "Hint:\n",
    "\n",
    "Use the approach similar to the Inventory Management Application demonstrated in Module 16."
   ]
  },
  {
   "cell_type": "code",
   "execution_count": 425,
   "id": "db705d44",
   "metadata": {},
   "outputs": [],
   "source": [
    "# load libraries\n",
    "import pandas as pd\n",
    "from pathlib import Path  "
   ]
  },
  {
   "cell_type": "code",
   "execution_count": 426,
   "id": "78a71388",
   "metadata": {},
   "outputs": [],
   "source": [
    "# display menu and get choice\n",
    "def menu():\n",
    "    print(\"\\nMENU\")\n",
    "    print(\"A. Add a new customer\")\n",
    "    print(\"B. Add cash for existing customer\")\n",
    "    print(\"C. Remove cash for existing customer \")\n",
    "    print(\"D. Retire an existing customer\")\n",
    "    print(\"E. Display all customers\")\n",
    "    print(\"Q. Quit application\")\n",
    "    choice = input(\"SELECT CHOICE: \")\n",
    "    print(\"\\n\")\n",
    "    return choice"
   ]
  },
  {
   "cell_type": "code",
   "execution_count": 427,
   "id": "6122632f",
   "metadata": {},
   "outputs": [],
   "source": [
    "# load data\n",
    "def loadCustomerBase():\n",
    "    global CustomerBase\n",
    "    CustomerBase = {'C01':{'Name':'Jane', 'Cash Balance':5500},\n",
    "                 'C02':{'Name':'Suzanne', 'Cash Balance':6200},\n",
    "                 'C03':{'Name':'Martha', 'Cash Balance':5800}, \n",
    "                 'C04':{'Name':'Tom', 'Cash':7000}}\n",
    "    global CustomerIds\n",
    "    CustomerIds = CustomerBase.keys()"
   ]
  },
  {
   "cell_type": "code",
   "execution_count": 428,
   "id": "f70caad4",
   "metadata": {},
   "outputs": [],
   "source": [
    "# business function: display customers in the database\n",
    "def displayCustomerBase():\n",
    "    # write code here\n",
    "    print(CustomerBase)"
   ]
  },
  {
   "cell_type": "code",
   "execution_count": 429,
   "id": "7460b455",
   "metadata": {},
   "outputs": [],
   "source": [
    "def addCustomerCash():\n",
    "\n",
    "    done = False\n",
    "    while not done:\n",
    "        try:\n",
    "            CustomerId   = input(\"Enter CustomerId: \")\n",
    "            amount = int(input(\"Enter amount of cash to be added: $ \"))\n",
    "            done     = True\n",
    "        except (ValueError):\n",
    "            print(\"ValueError: Enter an integer value\")\n",
    "    \n",
    "    # write code here\n",
    "    if CustomerId in CustomerIds:\n",
    "        add(CustomerId, amount)\n",
    "        print(\"Cash amount added successfully\")\n",
    "    else: print(\"Cannot add cash amount: Customer does not exist in database\")"
   ]
  },
  {
   "cell_type": "code",
   "execution_count": 430,
   "id": "bf5058c4",
   "metadata": {},
   "outputs": [],
   "source": [
    "# add customer in database after initial checks\n",
    "def add(CustomerId, amount):\n",
    "    # write code here\n",
    "    CustomerBase[CustomerId]['Cash Balance'] = CustomerBase[CustomerId]['Cash Balance'] + amount"
   ]
  },
  {
   "cell_type": "code",
   "execution_count": 431,
   "id": "3aee1c1b",
   "metadata": {},
   "outputs": [],
   "source": [
    "def addNewCustomer():\n",
    "\n",
    "    # write code here  \n",
    "    done = False\n",
    "    while not done:\n",
    "        try:\n",
    "            CustomerId   = input(\"Enter CustomerId: \")\n",
    "            Name     = input(\"Enter customer name: \")\n",
    "            Cash_balance    = int(input(\"Enter amount deposited: \"))\n",
    "            done     = True\n",
    "        except (ValueError):\n",
    "            print(\"ValueError: Enter an integer value\")  \n",
    "                \n",
    "    if CustomerId in CustomerIds:\n",
    "        print(\"Cannot add new customer. Customer is already in database.\")\n",
    "    elif Cash_balance<30:\n",
    "        print(\"Cannot add new customer. Minimum amount should be $30.\")\n",
    "    else: \n",
    "        create(CustomerId, Name, Cash_balance)\n",
    "        print(\"New Customer added successfully\")"
   ]
  },
  {
   "cell_type": "code",
   "execution_count": 432,
   "id": "fef3d6c6",
   "metadata": {},
   "outputs": [],
   "source": [
    "# create a new customer in database \n",
    "def create(CustomerId, Name, Cash_balance):\n",
    "    # write code here\n",
    "    value = {'Name':Name, 'Cash Balance':Cash_balance}\n",
    "    CustomerBase[CustomerId] = value"
   ]
  },
  {
   "cell_type": "code",
   "execution_count": 433,
   "id": "7efb661b",
   "metadata": {},
   "outputs": [],
   "source": [
    "def subCustomerCash():\n",
    "    \n",
    "    # write code here\n",
    "    done = False\n",
    "    while not done:\n",
    "        try:\n",
    "            CustomerId   = input(\"Enter CustomerId: \")\n",
    "            amount = int(input(\"Enter amount of cash to be deducted: $ \"))\n",
    "            done     = True\n",
    "        except (ValueError):\n",
    "            print(\"ValueError: Enter an integer value\")    \n",
    "            \n",
    "    # write code here\n",
    "    if CustomerId in CustomerIds:\n",
    "        if amount +30 <= CustomerBase[CustomerId]['Cash Balance']:\n",
    "            sub(CustomerId, amount)\n",
    "            print(\"Amount deducted successfully\")\n",
    "        elif CustomerBase[CustomerId]['Cash Balance'] > amount:\n",
    "            print(\"Minimum cash balance of $30 is required.\")\n",
    "        else: \n",
    "            print(\"Amount to be deducted is greater than amount in account\")\n",
    "    else: print(\"Cannot deduct: CustomerId does not exist in database\")"
   ]
  },
  {
   "cell_type": "code",
   "execution_count": 434,
   "id": "29e863af",
   "metadata": {},
   "outputs": [],
   "source": [
    "# decrease quantity by the number subtracted\n",
    "def sub(CustomerId, amount):\n",
    "    # write code here\n",
    "    CustomerBase[CustomerId]['Cash Balance'] = CustomerBase[CustomerId]['Cash Balance'] - amount"
   ]
  },
  {
   "cell_type": "code",
   "execution_count": 435,
   "id": "e310066b",
   "metadata": {},
   "outputs": [],
   "source": [
    "def retire():\n",
    "\n",
    "    CustomerId = input(\"Enter CustomerId to retire from database: \")\n",
    "    \n",
    "    # write code here\n",
    "    if CustomerId in CustomerIds and CustomerBase[CustomerId]['Cash Balance']<30:\n",
    "        delete(CustomerId)\n",
    "        print(\"CustomerId retired successfully\")\n",
    "    elif CustomerId in CustomerIds and CustomerBase[CustomerId]['Cash Balance']>30:\n",
    "        print(\"Unable to retire Customer. Customer balance amount more than $30\")\n",
    "    else: \n",
    "        print(\"Cannot delete: CustomerId is not in Customer Database\")"
   ]
  },
  {
   "cell_type": "code",
   "execution_count": 436,
   "id": "c717769a",
   "metadata": {},
   "outputs": [],
   "source": [
    "# delete a customer\n",
    "def delete(CustomerId):\n",
    "    # write code here\n",
    "    del CustomerBase[CustomerId]"
   ]
  },
  {
   "cell_type": "code",
   "execution_count": 437,
   "id": "363437c2",
   "metadata": {},
   "outputs": [
    {
     "name": "stdout",
     "output_type": "stream",
     "text": [
      "\n",
      "MENU\n",
      "A. Add a new customer\n",
      "B. Add cash for existing customer\n",
      "C. Remove cash for existing customer \n",
      "D. Retire an existing customer\n",
      "E. Display all customers\n",
      "Q. Quit application\n",
      "SELECT CHOICE: q\n",
      "\n",
      "\n"
     ]
    }
   ],
   "source": [
    "# main\n",
    "# load Customer\n",
    "loadCustomerBase()\n",
    "\n",
    "# despatch user's choice\n",
    "selected = \"X\"\n",
    "while selected != 'Q' and selected !='q':\n",
    "    if selected == 'A' or selected =='a':\n",
    "        addNewCustomer()\n",
    "    elif selected == 'B' or selected =='b':\n",
    "        addCustomerCash()\n",
    "    elif selected == 'C' or selected =='c':\n",
    "        subCustomerCash()\n",
    "    elif selected == 'D' or selected =='d':\n",
    "        retire()\n",
    "    elif selected == 'E' or selected =='e':\n",
    "        displayCustomerBase()\n",
    "    else: pass\n",
    "\n",
    "    selected = menu()"
   ]
  },
  {
   "cell_type": "code",
   "execution_count": null,
   "id": "ba0c7cc0",
   "metadata": {},
   "outputs": [],
   "source": []
  }
 ],
 "metadata": {
  "kernelspec": {
   "display_name": "Python 3 (ipykernel)",
   "language": "python",
   "name": "python3"
  },
  "language_info": {
   "codemirror_mode": {
    "name": "ipython",
    "version": 3
   },
   "file_extension": ".py",
   "mimetype": "text/x-python",
   "name": "python",
   "nbconvert_exporter": "python",
   "pygments_lexer": "ipython3",
   "version": "3.11.9"
  }
 },
 "nbformat": 4,
 "nbformat_minor": 5
}
